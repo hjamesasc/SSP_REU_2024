{
  "cells": [
    {
      "cell_type": "markdown",
      "metadata": {
        "id": "view-in-github",
        "colab_type": "text"
      },
      "source": [
        "<a href=\"https://colab.research.google.com/github/hjamesasc/SSP_REU_2024/blob/main/44compilationplots_byam.ipynb\" target=\"_parent\"><img src=\"https://colab.research.google.com/assets/colab-badge.svg\" alt=\"Open In Colab\"/></a>"
      ]
    },
    {
      "cell_type": "code",
      "execution_count": null,
      "id": "e7d2728c-8cf1-4b3c-be66-04edff498409",
      "metadata": {
        "id": "e7d2728c-8cf1-4b3c-be66-04edff498409",
        "outputId": "84bcdc6a-9962-4165-92ad-157408c17303"
      },
      "outputs": [
        {
          "data": {
            "text/plain": [
              "'C:\\\\Users\\\\jjlb1\\\\Downloads'"
            ]
          },
          "execution_count": 1,
          "metadata": {},
          "output_type": "execute_result"
        }
      ],
      "source": [
        "pwd"
      ]
    },
    {
      "cell_type": "code",
      "execution_count": null,
      "id": "a1492a61-970b-4470-a6de-ca9b23aed3de",
      "metadata": {
        "id": "a1492a61-970b-4470-a6de-ca9b23aed3de"
      },
      "outputs": [],
      "source": [
        "import csv\n",
        "from bokeh.models import HoverTool, Label, Text, Span\n",
        "from bokeh.plotting import figure, output_file, show, row\n",
        "from bokeh.layouts import row\n",
        "import pandas as pd\n",
        "import numpy as np"
      ]
    },
    {
      "cell_type": "code",
      "execution_count": null,
      "id": "e153af28-71fd-4053-84ae-2067d22390e0",
      "metadata": {
        "id": "e153af28-71fd-4053-84ae-2067d22390e0"
      },
      "outputs": [],
      "source": [
        "def load_data(file_path):\n",
        "    x = []\n",
        "    y = []\n",
        "    with open(file_path, 'r') as csvfile:\n",
        "        lines = csv.reader(csvfile, delimiter=',')\n",
        "        for row in lines:\n",
        "            x.append(float(row[0]))\n",
        "            y.append(float(row[1]))\n",
        "    return np.array(x), np.array(y)\n",
        "\n",
        "def plot_h_beta(filenames, offsets, gap_size):\n",
        "    p = figure(\n",
        "        title=\"H Beta\",\n",
        "        width=500,\n",
        "        height=600,\n",
        "        x_axis_label=\"Wavelength(Å)\",\n",
        "        y_axis_label=\"Normalized Flux + Offset\",\n",
        "    )\n",
        "\n",
        "    p.outline_line_color = \"black\"\n",
        "    p.title.align = \"center\"\n",
        "    p.title.text_font_size = \"15px\"\n",
        "    p.xaxis.axis_label_text_font_size = \"15px\"\n",
        "    p.yaxis.axis_label_text_font_size = \"15px\"\n",
        "\n",
        "    colors = ['mediumvioletred', 'indigo', 'navy', 'cornflowerblue', 'mediumaquamarine', 'teal', 'darkgreen']\n",
        "\n",
        "    for i, (filename, offset) in enumerate(zip(filenames, offsets)):\n",
        "        x, y = load_data(filename)\n",
        "        p.line(x=x + offset, y=y + i * gap_size, color=colors[i % len(colors)])\n",
        "\n",
        "    p.y_range.end = len(filenames) + 0.5\n",
        "    p.y_range.start = 0\n",
        "    p.x_range.start = 4856\n",
        "    p.x_range.end = 4863\n",
        "\n",
        "    return p\n",
        "\n",
        "def plot_lithium(filenames, offsets, gap_size):\n",
        "    p = figure(\n",
        "        title=\"Lithium\",\n",
        "        width=350,\n",
        "        height=600,\n",
        "        x_axis_label=\"Wavelength(Å)\",\n",
        "        y_axis_label=\"Normalized Flux + Offset\",\n",
        "    )\n",
        "\n",
        "    p.outline_line_color = \"black\"\n",
        "    p.title.align = \"center\"\n",
        "    p.title.text_font_size = \"15px\"\n",
        "    p.xaxis.axis_label_text_font_size = \"15px\"\n",
        "    p.yaxis.axis_label_text_font_size = \"15px\"\n",
        "    #vline = Span(location=6707, dimension='height', line_color='gray', line_width=1)\n",
        "    #p.add_layout(vline)\n",
        "\n",
        "    colors = ['mediumvioletred', 'indigo', 'navy', 'cornflowerblue', 'mediumaquamarine', 'teal', 'darkgreen']\n",
        "\n",
        "    for i, (filename, offset) in enumerate(zip(filenames, offsets)):\n",
        "        x, y = load_data(filename)\n",
        "        p.line(x=x + offset, y=y + i * gap_size, color=colors[i % len(colors)])\n",
        "\n",
        "    p.y_range.end = len(filenames) + 0.5\n",
        "    p.y_range.start = 0\n",
        "    p.x_range.start = 6705.5\n",
        "    p.x_range.end = 6712\n",
        "\n",
        "    return p\n",
        "\n",
        "def add_custom_text(p, custom_texts, offsets):\n",
        "    if len(custom_texts) != len(offsets):\n",
        "        raise ValueError(\"The length of custom_texts and offsets must be the same\")\n",
        "\n",
        "    # Define a base y position, adjust according to your plot's y_range\n",
        "    base_y = (p.y_range.start + p.y_range.end) / 2  # Center of the y range\n",
        "\n",
        "def add_lithium_custom_text(p, custom_texts, offsets):\n",
        "    if len(custom_texts) != len(offsets):\n",
        "        raise ValueError(\"The length of custom_texts and offsets must be the same\")\n",
        "\n",
        "    # Get the y range of the plot\n",
        "    y_range_start = p.y_range.start\n",
        "    y_range_end = p.y_range.end\n",
        "\n",
        "    for i, (text, offset) in enumerate(zip(custom_texts, offsets)):\n",
        "        # Calculate y position with offset\n",
        "        colors = ['mediumvioletred', 'indigo', 'navy', 'cornflowerblue', 'mediumaquamarine', 'teal', 'darkgreen']\n",
        "        y_position = 1.05 + i + offset\n",
        "\n",
        "        custom_label = Label(\n",
        "            x=6710.3,  # Adjust x position as needed\n",
        "            y=y_position,  # Adjust vertical position\n",
        "            text=text,\n",
        "            text_color=colors[i % len(colors)],\n",
        "            text_font_size='10pt',\n",
        "            text_align='left'\n",
        "        )\n",
        "        p.add_layout(custom_label)\n",
        "\n",
        "def add_hbeta_custom_text(p, custom_texts, offsets):\n",
        "    if len(custom_texts) != len(offsets):\n",
        "        raise ValueError(\"The length of custom_texts and offsets must be the same\")\n",
        "\n",
        "    # Get the y range of the plot\n",
        "    y_range_start = p.y_range.start\n",
        "    y_range_end = p.y_range.end\n",
        "\n",
        "    for i, (text, offset) in enumerate(zip(custom_texts, offsets)):\n",
        "        # Calculate y position with offset\n",
        "        colors = ['mediumvioletred', 'indigo', 'navy', 'cornflowerblue', 'mediumaquamarine', 'teal', 'darkgreen']\n",
        "        y_position = 1.05 + i + offset\n",
        "\n",
        "        custom_label = Label(\n",
        "            x=4857.3,  # Adjust x position as needed\n",
        "            y=y_position,  # Adjust vertical position\n",
        "            text=text,\n",
        "            text_color=colors[i % len(colors)],\n",
        "            text_font_size='10pt',\n",
        "            text_align='left'\n",
        "        )\n",
        "        p.add_layout(custom_label)"
      ]
    },
    {
      "cell_type": "code",
      "execution_count": null,
      "id": "13084b4f-1719-4252-bb43-b7d2c616c703",
      "metadata": {
        "id": "13084b4f-1719-4252-bb43-b7d2c616c703"
      },
      "outputs": [],
      "source": []
    },
    {
      "cell_type": "code",
      "execution_count": null,
      "id": "6bd4308d-3bd3-4fab-a363-e29e0a62eb4e",
      "metadata": {
        "id": "6bd4308d-3bd3-4fab-a363-e29e0a62eb4e"
      },
      "outputs": [],
      "source": [
        "#Important star: HD 45088: HIP030630_191108_40"
      ]
    },
    {
      "cell_type": "code",
      "execution_count": null,
      "id": "9b6762ff-4df9-4825-8ee1-5f7fec578c8b",
      "metadata": {
        "id": "9b6762ff-4df9-4825-8ee1-5f7fec578c8b",
        "outputId": "bad727a1-66a9-4524-e508-1b9b1c7efe1e"
      },
      "outputs": [
        {
          "ename": "FileNotFoundError",
          "evalue": "[Errno 2] No such file or directory: 'HIP054906_210203_7.csv'",
          "output_type": "error",
          "traceback": [
            "\u001b[1;31m---------------------------------------------------------------------------\u001b[0m",
            "\u001b[1;31mFileNotFoundError\u001b[0m                         Traceback (most recent call last)",
            "Cell \u001b[1;32mIn[6], line 9\u001b[0m\n\u001b[0;32m      1\u001b[0m h_beta_filenames \u001b[38;5;241m=\u001b[39m [\n\u001b[0;32m      2\u001b[0m     \u001b[38;5;124m'\u001b[39m\u001b[38;5;124mHIP054906_210203_7.csv\u001b[39m\u001b[38;5;124m'\u001b[39m, \u001b[38;5;124m'\u001b[39m\u001b[38;5;124mHIP003093_170821_7.csv\u001b[39m\u001b[38;5;124m'\u001b[39m, \n\u001b[0;32m      3\u001b[0m     \u001b[38;5;124m'\u001b[39m\u001b[38;5;124mHIP016537_170802_7.csv\u001b[39m\u001b[38;5;124m'\u001b[39m, \u001b[38;5;124m'\u001b[39m\u001b[38;5;124mHIP043587_210120_7.csv\u001b[39m\u001b[38;5;124m'\u001b[39m, \n\u001b[0;32m      4\u001b[0m     \u001b[38;5;124m'\u001b[39m\u001b[38;5;124mHIP064797_200315_7.csv\u001b[39m\u001b[38;5;124m'\u001b[39m, \u001b[38;5;124m'\u001b[39m\u001b[38;5;124mHIP031246_200205_7.csv\u001b[39m\u001b[38;5;124m'\u001b[39m,\n\u001b[0;32m      5\u001b[0m     \u001b[38;5;124m'\u001b[39m\u001b[38;5;124mHIP098698_170818_7.csv\u001b[39m\u001b[38;5;124m'\u001b[39m, \u001b[38;5;124m'\u001b[39m\u001b[38;5;124mHIP099825_170719_7.csv\u001b[39m\u001b[38;5;124m'\u001b[39m\n\u001b[0;32m      6\u001b[0m ]\n\u001b[0;32m      8\u001b[0m h_beta_offsets \u001b[38;5;241m=\u001b[39m [\u001b[38;5;241m-\u001b[39m\u001b[38;5;241m0.08\u001b[39m, \u001b[38;5;241m0.57\u001b[39m, \u001b[38;5;241m-\u001b[39m\u001b[38;5;241m0.15\u001b[39m, \u001b[38;5;241m-\u001b[39m\u001b[38;5;241m0.68\u001b[39m, \u001b[38;5;241m-\u001b[39m\u001b[38;5;241m0.29\u001b[39m, \u001b[38;5;241m-\u001b[39m\u001b[38;5;241m0.54\u001b[39m, \u001b[38;5;241m0.06\u001b[39m, \u001b[38;5;241m0.64\u001b[39m]\n\u001b[1;32m----> 9\u001b[0m h_beta_plot \u001b[38;5;241m=\u001b[39m plot_h_beta(h_beta_filenames, h_beta_offsets,  gap_size\u001b[38;5;241m=\u001b[39m\u001b[38;5;241m1\u001b[39m,)\n\u001b[0;32m     11\u001b[0m lithium_filenames \u001b[38;5;241m=\u001b[39m [\n\u001b[0;32m     12\u001b[0m     \u001b[38;5;124m'\u001b[39m\u001b[38;5;124mHIP054906_210203_40.csv\u001b[39m\u001b[38;5;124m'\u001b[39m, \u001b[38;5;124m'\u001b[39m\u001b[38;5;124mHIP003093_170821_40.csv\u001b[39m\u001b[38;5;124m'\u001b[39m, \n\u001b[0;32m     13\u001b[0m     \u001b[38;5;124m'\u001b[39m\u001b[38;5;124mHIP016537_170802_40.csv\u001b[39m\u001b[38;5;124m'\u001b[39m, \u001b[38;5;124m'\u001b[39m\u001b[38;5;124mHIP043587_210120_40.csv\u001b[39m\u001b[38;5;124m'\u001b[39m, \n\u001b[0;32m     14\u001b[0m     \u001b[38;5;124m'\u001b[39m\u001b[38;5;124mHIP064797_200315_40.csv\u001b[39m\u001b[38;5;124m'\u001b[39m, \u001b[38;5;124m'\u001b[39m\u001b[38;5;124mHIP031246_200205_40.csv\u001b[39m\u001b[38;5;124m'\u001b[39m,\n\u001b[0;32m     15\u001b[0m     \u001b[38;5;124m'\u001b[39m\u001b[38;5;124mHIP098698_170818_40.csv\u001b[39m\u001b[38;5;124m'\u001b[39m, \u001b[38;5;124m'\u001b[39m\u001b[38;5;124mHIP099825_170719_40.csv\u001b[39m\u001b[38;5;124m'\u001b[39m\n\u001b[0;32m     16\u001b[0m ]\n\u001b[0;32m     18\u001b[0m lithium_offsets \u001b[38;5;241m=\u001b[39m [\u001b[38;5;241m-\u001b[39m\u001b[38;5;241m0.08\u001b[39m, \u001b[38;5;241m0.8\u001b[39m, \u001b[38;5;241m-\u001b[39m\u001b[38;5;241m0.2\u001b[39m, \u001b[38;5;241m-\u001b[39m\u001b[38;5;241m0.95\u001b[39m, \u001b[38;5;241m-\u001b[39m\u001b[38;5;241m0.43\u001b[39m, \u001b[38;5;241m-\u001b[39m\u001b[38;5;241m0.8\u001b[39m, \u001b[38;5;241m0\u001b[39m, \u001b[38;5;241m0.78\u001b[39m]\n",
            "Cell \u001b[1;32mIn[4], line 29\u001b[0m, in \u001b[0;36mplot_h_beta\u001b[1;34m(filenames, offsets, gap_size)\u001b[0m\n\u001b[0;32m     26\u001b[0m colors \u001b[38;5;241m=\u001b[39m [\u001b[38;5;124m'\u001b[39m\u001b[38;5;124mmediumvioletred\u001b[39m\u001b[38;5;124m'\u001b[39m, \u001b[38;5;124m'\u001b[39m\u001b[38;5;124mindigo\u001b[39m\u001b[38;5;124m'\u001b[39m, \u001b[38;5;124m'\u001b[39m\u001b[38;5;124mnavy\u001b[39m\u001b[38;5;124m'\u001b[39m, \u001b[38;5;124m'\u001b[39m\u001b[38;5;124mcornflowerblue\u001b[39m\u001b[38;5;124m'\u001b[39m, \u001b[38;5;124m'\u001b[39m\u001b[38;5;124mmediumaquamarine\u001b[39m\u001b[38;5;124m'\u001b[39m, \u001b[38;5;124m'\u001b[39m\u001b[38;5;124mteal\u001b[39m\u001b[38;5;124m'\u001b[39m, \u001b[38;5;124m'\u001b[39m\u001b[38;5;124mdarkgreen\u001b[39m\u001b[38;5;124m'\u001b[39m]\n\u001b[0;32m     28\u001b[0m \u001b[38;5;28;01mfor\u001b[39;00m i, (filename, offset) \u001b[38;5;129;01min\u001b[39;00m \u001b[38;5;28menumerate\u001b[39m(\u001b[38;5;28mzip\u001b[39m(filenames, offsets)):\n\u001b[1;32m---> 29\u001b[0m     x, y \u001b[38;5;241m=\u001b[39m load_data(filename)\n\u001b[0;32m     30\u001b[0m     p\u001b[38;5;241m.\u001b[39mline(x\u001b[38;5;241m=\u001b[39mx \u001b[38;5;241m+\u001b[39m offset, y\u001b[38;5;241m=\u001b[39my \u001b[38;5;241m+\u001b[39m i \u001b[38;5;241m*\u001b[39m gap_size, color\u001b[38;5;241m=\u001b[39mcolors[i \u001b[38;5;241m%\u001b[39m \u001b[38;5;28mlen\u001b[39m(colors)])\n\u001b[0;32m     32\u001b[0m p\u001b[38;5;241m.\u001b[39my_range\u001b[38;5;241m.\u001b[39mend \u001b[38;5;241m=\u001b[39m \u001b[38;5;28mlen\u001b[39m(filenames) \u001b[38;5;241m+\u001b[39m \u001b[38;5;241m0.5\u001b[39m\n",
            "Cell \u001b[1;32mIn[4], line 4\u001b[0m, in \u001b[0;36mload_data\u001b[1;34m(file_path)\u001b[0m\n\u001b[0;32m      2\u001b[0m x \u001b[38;5;241m=\u001b[39m []\n\u001b[0;32m      3\u001b[0m y \u001b[38;5;241m=\u001b[39m []\n\u001b[1;32m----> 4\u001b[0m \u001b[38;5;28;01mwith\u001b[39;00m \u001b[38;5;28mopen\u001b[39m(file_path, \u001b[38;5;124m'\u001b[39m\u001b[38;5;124mr\u001b[39m\u001b[38;5;124m'\u001b[39m) \u001b[38;5;28;01mas\u001b[39;00m csvfile:\n\u001b[0;32m      5\u001b[0m     lines \u001b[38;5;241m=\u001b[39m csv\u001b[38;5;241m.\u001b[39mreader(csvfile, delimiter\u001b[38;5;241m=\u001b[39m\u001b[38;5;124m'\u001b[39m\u001b[38;5;124m,\u001b[39m\u001b[38;5;124m'\u001b[39m)\n\u001b[0;32m      6\u001b[0m     \u001b[38;5;28;01mfor\u001b[39;00m row \u001b[38;5;129;01min\u001b[39;00m lines:\n",
            "File \u001b[1;32m~\\anaconda3\\Lib\\site-packages\\IPython\\core\\interactiveshell.py:324\u001b[0m, in \u001b[0;36m_modified_open\u001b[1;34m(file, *args, **kwargs)\u001b[0m\n\u001b[0;32m    317\u001b[0m \u001b[38;5;28;01mif\u001b[39;00m file \u001b[38;5;129;01min\u001b[39;00m {\u001b[38;5;241m0\u001b[39m, \u001b[38;5;241m1\u001b[39m, \u001b[38;5;241m2\u001b[39m}:\n\u001b[0;32m    318\u001b[0m     \u001b[38;5;28;01mraise\u001b[39;00m \u001b[38;5;167;01mValueError\u001b[39;00m(\n\u001b[0;32m    319\u001b[0m         \u001b[38;5;124mf\u001b[39m\u001b[38;5;124m\"\u001b[39m\u001b[38;5;124mIPython won\u001b[39m\u001b[38;5;124m'\u001b[39m\u001b[38;5;124mt let you open fd=\u001b[39m\u001b[38;5;132;01m{\u001b[39;00mfile\u001b[38;5;132;01m}\u001b[39;00m\u001b[38;5;124m by default \u001b[39m\u001b[38;5;124m\"\u001b[39m\n\u001b[0;32m    320\u001b[0m         \u001b[38;5;124m\"\u001b[39m\u001b[38;5;124mas it is likely to crash IPython. If you know what you are doing, \u001b[39m\u001b[38;5;124m\"\u001b[39m\n\u001b[0;32m    321\u001b[0m         \u001b[38;5;124m\"\u001b[39m\u001b[38;5;124myou can use builtins\u001b[39m\u001b[38;5;124m'\u001b[39m\u001b[38;5;124m open.\u001b[39m\u001b[38;5;124m\"\u001b[39m\n\u001b[0;32m    322\u001b[0m     )\n\u001b[1;32m--> 324\u001b[0m \u001b[38;5;28;01mreturn\u001b[39;00m io_open(file, \u001b[38;5;241m*\u001b[39margs, \u001b[38;5;241m*\u001b[39m\u001b[38;5;241m*\u001b[39mkwargs)\n",
            "\u001b[1;31mFileNotFoundError\u001b[0m: [Errno 2] No such file or directory: 'HIP054906_210203_7.csv'"
          ]
        }
      ],
      "source": [
        "h_beta_filenames = [\n",
        "    'HIP054906_210203_7.csv', 'HIP003093_170821_7.csv',\n",
        "    'HIP016537_170802_7.csv', 'HIP043587_210120_7.csv',\n",
        "    'HIP064797_200315_7.csv', 'HIP031246_200205_7.csv',\n",
        "    'HIP098698_170818_7.csv', 'HIP099825_170719_7.csv'\n",
        "]\n",
        "\n",
        "h_beta_offsets = [-0.08, 0.57, -0.15, -0.68, -0.29, -0.54, 0.06, 0.64]\n",
        "h_beta_plot = plot_h_beta(h_beta_filenames, h_beta_offsets,  gap_size=1,)\n",
        "\n",
        "lithium_filenames = [\n",
        "    'HIP054906_210203_40.csv', 'HIP003093_170821_40.csv',\n",
        "    'HIP016537_170802_40.csv', 'HIP043587_210120_40.csv',\n",
        "    'HIP064797_200315_40.csv', 'HIP031246_200205_40.csv',\n",
        "    'HIP098698_170818_40.csv', 'HIP099825_170719_40.csv'\n",
        "]\n",
        "\n",
        "lithium_offsets = [-0.08, 0.8, -0.2, -0.95, -0.43, -0.8, 0, 0.78]\n",
        "lithium_plot = plot_lithium(lithium_filenames, lithium_offsets, gap_size=1)\n",
        "\n",
        "hb_n = [ 0, 0, 0, 0, 0, 0, 0, 0]\n",
        "hbeta_custom_texts = [\n",
        "    \"5156 K\",\n",
        "    \"5204 K\",\n",
        "    \"5044 K\",\n",
        "    \"5262 K\",\n",
        "    \"5007 K\",\n",
        "    \"5206 K\",\n",
        "    \"4527 K\",\n",
        "    \"5078 K\",\n",
        "]\n",
        "\n",
        "l_n = [ 0, 0, 0, 0, 0, 0, 0, 0]\n",
        "lithium_custom_texts = [\n",
        "    \"HD 97658\",\n",
        "    \"54 Psc\",\n",
        "    \"Eps Eri\",\n",
        "    \"Rho01 Cnc\",\n",
        "    \"HD 115404\",\n",
        "    \"HD 46375\",\n",
        "    \"HD 190007\",\n",
        "    \"HD 192310\",\n",
        "]\n",
        "\n",
        "add_hbeta_custom_text(h_beta_plot, hbeta_custom_texts, hb_n)\n",
        "add_lithium_custom_text(lithium_plot, lithium_custom_texts, l_n)\n",
        "show(row(lithium_plot, h_beta_plot))"
      ]
    },
    {
      "cell_type": "code",
      "execution_count": null,
      "id": "99dccbb8-f8db-477c-b29d-9707827f4c65",
      "metadata": {
        "id": "99dccbb8-f8db-477c-b29d-9707827f4c65"
      },
      "outputs": [],
      "source": [
        "h_beta_filenames = [\n",
        "    'HIP071395_210210_7.csv', 'HIP013642_201220_7.csv',\n",
        "    'HIP055486_210314_7.csv', 'HIP099711_170702_7.csv',\n",
        "    'HIP058451_200306_7.csv', 'HIP064457_200315_7.csv',\n",
        "    'HIP112190_201029_7.csv', 'HIP058374_190505_7.csv'\n",
        "]\n",
        "\n",
        "h_beta_offsets = [0.3, -1.12, -0.3, 0.08, -0.35, 0.1, -0.48, -0.38]\n",
        "h_beta_plot = plot_h_beta(h_beta_filenames, h_beta_offsets, gap_size=1)\n",
        "\n",
        "lithium_filenames = [\n",
        "    'HIP071395_210210_40.csv', 'HIP013642_201220_40.csv',\n",
        "    'HIP055486_210314_40.csv', 'HIP099711_170702_40.csv',\n",
        "    'HIP058451_200306_40.csv', 'HIP064457_200315_40.csv',\n",
        "    'HIP112190_201029_40.csv', 'HIP058374_190505_40.csv'\n",
        "]\n",
        "\n",
        "lithium_offsets = [0.25, -1.7, -0.57, -0.04, -0.64, 0, -0.78, -0.65]\n",
        "lithium_plot = plot_lithium(lithium_filenames, lithium_offsets, gap_size=1)\n",
        "\n",
        "hb_n = [ 0, 0, 0, 0, 0, 0, 0, 0]\n",
        "hbeta_custom_texts = [\n",
        "    \"4915 K\",\n",
        "    \"5130 K\",\n",
        "    \"5299 K\",\n",
        "    \"4956 K\",\n",
        "    \"4904 K\",\n",
        "    \"5082 K\",\n",
        "    \"4881 K\",\n",
        "    \"4784 K\"\n",
        "]\n",
        "\n",
        "l_n = [ 0, 0, 0, 0, 0, 0, 0, 0]\n",
        "lithium_custom_texts = [\n",
        "    \"HD 128311\",\n",
        "    \"HD 18143A\",\n",
        "    \"HD 98736\",\n",
        "    \"HD 192263\",\n",
        "    \"HD 104067\",\n",
        "    \"HD 114783\",\n",
        "    \"HD 215152\",\n",
        "    \"HD 103949\"\n",
        "]\n",
        "\n",
        "add_hbeta_custom_text(h_beta_plot, hbeta_custom_texts, hb_n)\n",
        "add_lithium_custom_text(lithium_plot, lithium_custom_texts, l_n)\n",
        "show(row(lithium_plot, h_beta_plot))"
      ]
    },
    {
      "cell_type": "code",
      "execution_count": null,
      "id": "363c2ce6-1a5d-4049-889e-43fb8922c718",
      "metadata": {
        "id": "363c2ce6-1a5d-4049-889e-43fb8922c718"
      },
      "outputs": [],
      "source": []
    },
    {
      "cell_type": "code",
      "execution_count": null,
      "id": "751d5a2b-99d2-4edb-bf51-7d5512b3c0c6",
      "metadata": {
        "id": "751d5a2b-99d2-4edb-bf51-7d5512b3c0c6"
      },
      "outputs": [],
      "source": [
        "h_beta_filenames = [\n",
        "    'HIP071481_210202_7.csv', 'HIP026013_200228_7.csv',\n",
        "    'HIP035173_200305_7.csv', 'HIP005763_211027_7.csv',\n",
        "    'HIP084607_170707_7.csv', 'HIP006390_170721_7.csv',\n",
        "    'HIP114322_170714_7.csv', 'HIP106353_170719_7.csv'\n",
        "]\n",
        "\n",
        "h_beta_offsets = [-0.5, -1.43, -0.85, -0.85, 0.27, -0.28, 0.68, -0.67]\n",
        "h_beta_plot = plot_h_beta(h_beta_filenames, h_beta_offsets, gap_size=1)\n",
        "\n",
        "lithium_filenames = [\n",
        "    'HIP071481_210202_40.csv', 'HIP026013_200228_40.csv',\n",
        "    'HIP035173_200305_40.csv', 'HIP005763_211027_40.csv',\n",
        "    'HIP084607_170707_40.csv', 'HIP006390_170721_40.csv',\n",
        "    'HIP114322_170714_40.csv', 'HIP106353_170719_40.csv'\n",
        "]\n",
        "\n",
        "lithium_offsets = [-1, -2.3, -1.54, -1.51, 0, -0.75, 0.59, -1.27]\n",
        "lithium_plot = plot_lithium(lithium_filenames, lithium_offsets, gap_size=1)\n",
        "\n",
        "hb_n = [ 0, 0, 0, 0, 0, 0, 0, 0]\n",
        "hbeta_custom_texts = [\n",
        "    \"4906 K\",\n",
        "    \"4787 K\",\n",
        "    \"4921 K\",\n",
        "    \"4333 K\",\n",
        "    \"4778 K\",\n",
        "    \"4943 K\",\n",
        "    \"4841 K\",\n",
        "    \"5033 K\"\n",
        "]\n",
        "\n",
        "l_n = [ 0, 0, 0, 0, 0, 0, 0, 0]\n",
        "lithium_custom_texts = [\n",
        "    \"HD 128356\",\n",
        "    \"CD-26 2288\",\n",
        "    \"BD-03 1821\",\n",
        "    \"BD+15 176\",\n",
        "    \"HD 156668\",\n",
        "    \"HD 8326\",\n",
        "    \"HD 218566\",\n",
        "    \"HD 204941\"\n",
        "]\n",
        "\n",
        "add_hbeta_custom_text(h_beta_plot, hbeta_custom_texts, hb_n)\n",
        "add_lithium_custom_text(lithium_plot, lithium_custom_texts, l_n)\n",
        "show(row(lithium_plot, h_beta_plot))"
      ]
    },
    {
      "cell_type": "code",
      "execution_count": null,
      "id": "9497e4c7-d826-414b-9029-b4d8c6b96a7e",
      "metadata": {
        "id": "9497e4c7-d826-414b-9029-b4d8c6b96a7e"
      },
      "outputs": [],
      "source": [
        "#stars with semi-bad plots"
      ]
    },
    {
      "cell_type": "code",
      "execution_count": null,
      "id": "e66dada4-3d5b-4032-9f70-03046eb76fb9",
      "metadata": {
        "id": "e66dada4-3d5b-4032-9f70-03046eb76fb9"
      },
      "outputs": [],
      "source": [
        "h_beta_filenames = [\n",
        "    'HIP004845_170712_7.csv', 'HIP042401_200313_7.csv',\n",
        "    'HIP027803_200301_7.csv', 'HIP093540_170624_7.csv',\n",
        "    'HIP074981_210613_7.csv', 'HIP019165_200121_7.csv',\n",
        "    'HIP073427_210210_7.csv', 'HIP010337_170717_7.csv',\n",
        "    'HIP043790_210129_7.csv'\n",
        "\n",
        "]\n",
        "\n",
        "h_beta_offsets = [0, -0.87, -1.1, -0.85, -0.17, -1.1, 0.56, 0, -0.25, 0, 0, 0]\n",
        "h_beta_plot = plot_h_beta(h_beta_filenames, h_beta_offsets, gap_size=1)\n",
        "\n",
        "lithium_filenames = [\n",
        "    'HIP004845_170712_40.csv', 'HIP042401_200313_40.csv',\n",
        "    'HIP027803_200301_40.csv', 'HIP093540_170624_40.csv',\n",
        "    'HIP074981_210613_40.csv', 'HIP019165_200121_40.csv',\n",
        "    'HIP073427_210210_40.csv', 'HIP010337_170717_40.csv',\n",
        "    'HIP043790_210129_40.csv'\n",
        "\n",
        "]\n",
        "\n",
        "lithium_offsets = [0, -1.2, -1.45, -1.1, -0.2, -1.4, 0.853, 0.1, -0.28, 0, 0, 0]\n",
        "lithium_plot = plot_lithium(lithium_filenames, lithium_offsets, gap_size=1)\n",
        "\n",
        "hb_n = [ 0.15, 0.15, 0.15, 0.15, 0.15, 0.15, 0.15, 0.15, 0.1]\n",
        "hbeta_custom_texts = [\n",
        "    \"3937 K\",\n",
        "    \"4529 K\",\n",
        "    \"3965 K\",\n",
        "    \"4992 K\",\n",
        "    \"4176 K\",\n",
        "    \"4235 K\",\n",
        "    \"4170 K\",\n",
        "    \"4050 K\",\n",
        "    \"3933 K\"\n",
        "]\n",
        "\n",
        "l_n = [ 0.1, 0.1, 0.1, 0.1, 0.1, 0.1, 0.1, 0.1, 0.1]\n",
        "lithium_custom_texts = [\n",
        "    \"BD-11 192\",\n",
        "    \"HD 73583\",\n",
        "    \"BD-06 1339\",\n",
        "    \"HD 176986\",\n",
        "    \"BD+29 2654\",\n",
        "    \"BD-21 784\",\n",
        "    \"CD-23 12010\",\n",
        "    \"BD-21 397\",\n",
        "    \"BD+02 2098\"\n",
        "]\n",
        "\n",
        "add_hbeta_custom_text(h_beta_plot, hbeta_custom_texts, hb_n)\n",
        "add_lithium_custom_text(lithium_plot, lithium_custom_texts, l_n)\n",
        "show(row(lithium_plot, h_beta_plot))"
      ]
    },
    {
      "cell_type": "code",
      "execution_count": null,
      "id": "3d61c16e-03e4-430a-bb68-3993312b0444",
      "metadata": {
        "id": "3d61c16e-03e4-430a-bb68-3993312b0444"
      },
      "outputs": [],
      "source": []
    },
    {
      "cell_type": "code",
      "execution_count": null,
      "id": "1b38d169-b30d-4db0-9f25-050f172e0537",
      "metadata": {
        "id": "1b38d169-b30d-4db0-9f25-050f172e0537"
      },
      "outputs": [],
      "source": [
        "#stars with bad plots"
      ]
    },
    {
      "cell_type": "code",
      "execution_count": null,
      "id": "6d15918e-72d2-48ed-a710-f6a0ee9ef8e8",
      "metadata": {
        "id": "6d15918e-72d2-48ed-a710-f6a0ee9ef8e8"
      },
      "outputs": [],
      "source": [
        "h_beta_filenames = [\n",
        "    'HIP012493_210217_7.csv', 'HIP038594_200205_7.csv',\n",
        "    'HIP115752_171215_7.csv'\n",
        "]\n",
        "\n",
        "h_beta_offsets = [0, 0, 0, 0, 0, 0, 0, 0, 0, 0]\n",
        "h_beta_plot = plot_h_beta(h_beta_filenames, h_beta_offsets, gap_size=1)\n",
        "\n",
        "lithium_filenames = [\n",
        "    'HIP012493_210217_40.csv', 'HIP038594_200205_40.csv',\n",
        "    'HIP115752_171215_40.csv'\n",
        "]\n",
        "\n",
        "lithium_offsets = [0, 0, 0, 0, 0, 0, 0, 0, 0, 0]\n",
        "lithium_plot = plot_lithium(lithium_filenames, lithium_offsets, gap_size=1)\n",
        "\n",
        "show(row(lithium_plot, h_beta_plot))"
      ]
    },
    {
      "cell_type": "code",
      "execution_count": null,
      "id": "9ed071af-b5f9-41cc-880a-32191fab0d10",
      "metadata": {
        "id": "9ed071af-b5f9-41cc-880a-32191fab0d10"
      },
      "outputs": [],
      "source": [
        "h_beta_filenames = [\n",
        "    'HIP116384_170727_7.csv',\n",
        "    'G2K000668_191026_7.csv', 'HIP034222_200124_7.csv',\n",
        "    'HIP098505_170726_7.csv', 'HIP090979_191025_7.csv',\n",
        "    'HIP010037_201205_7.csv', 'HIP034785_200307_7.csv',\n",
        "    'HIP012961_170804_7.csv',\n",
        "]\n",
        "h_beta_offsets = [0, 0, 0, 0, 0, 0, 0, 0, 0, 0]\n",
        "h_beta_plot = plot_h_beta(h_beta_filenames, h_beta_offsets, gap_size=1)\n",
        "\n",
        "lithium_filenames = [\n",
        "    'HIP116384_170727_40.csv',\n",
        "    'G2K000668_191026_40.csv', 'HIP034222_200124_40.csv',\n",
        "    'HIP098505_170726_40.csv', 'HIP090979_191025_40.csv',\n",
        "    'HIP010037_201205_40.csv', 'HIP034785_200307_40.csv',\n",
        "    'HIP012961_170804_40.csv'\n",
        "]\n",
        "lithium_offsets = [0, 0, 0, 0, 0, 0, 0, 0, 0, 0]\n",
        "lithium_plot = plot_lithium(lithium_filenames, lithium_offsets, gap_size=1)\n",
        "\n",
        "show(row(lithium_plot, h_beta_plot))"
      ]
    }
  ],
  "metadata": {
    "kernelspec": {
      "display_name": "Python 3 (ipykernel)",
      "language": "python",
      "name": "python3"
    },
    "language_info": {
      "codemirror_mode": {
        "name": "ipython",
        "version": 3
      },
      "file_extension": ".py",
      "mimetype": "text/x-python",
      "name": "python",
      "nbconvert_exporter": "python",
      "pygments_lexer": "ipython3",
      "version": "3.12.4"
    },
    "colab": {
      "provenance": [],
      "include_colab_link": true
    }
  },
  "nbformat": 4,
  "nbformat_minor": 5
}